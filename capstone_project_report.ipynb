{
 "cells": [
  {
   "cell_type": "markdown",
   "metadata": {},
   "source": [
    "# Capstone Project Report\n"
   ]
  },
  {
   "cell_type": "markdown",
   "metadata": {},
   "source": [
    "### Introduction / Business Problem"
   ]
  },
  {
   "cell_type": "markdown",
   "metadata": {},
   "source": [
    "This project is intended to bring clarity to the new investors when trying to establish their new facilities in Warsaw city.\n",
    "\n",
    "Many entrepreneurs are trying to start their new business and be part of the city's growth. Where should they do it? Where is the best place to locate a particular type of business? Which neighborhoods are overfilled with particular types of venues and where you can see the clear lack of them? \n",
    "\n",
    "This project is built to answer all those questions, increase the probability of the business to succeed and provide the unknown insights about the city's neighborhoods. With the project's help, fresh entrepreneurs will have the smoothest start into the unknown land of opportunities. "
   ]
  },
  {
   "cell_type": "markdown",
   "metadata": {},
   "source": [
    "### Data"
   ]
  },
  {
   "cell_type": "markdown",
   "metadata": {},
   "source": [
    "The analysis necessary for this project is based on the address and postcode location data in the city of Warsaw. For each location, there is data collected using Foursquare API allowing to discover the venues which are currently open around the given locations. The set consists of geolocation data, types of venues around the area, number of venues, names and other. All the data is available for free online and most of it will be collected on the go while working on the project."
   ]
  },
  {
   "cell_type": "code",
   "execution_count": null,
   "metadata": {},
   "outputs": [],
   "source": []
  }
 ],
 "metadata": {
  "kernelspec": {
   "display_name": "Python 3",
   "language": "python",
   "name": "python3"
  },
  "language_info": {
   "codemirror_mode": {
    "name": "ipython",
    "version": 3
   },
   "file_extension": ".py",
   "mimetype": "text/x-python",
   "name": "python",
   "nbconvert_exporter": "python",
   "pygments_lexer": "ipython3",
   "version": "3.7.3"
  }
 },
 "nbformat": 4,
 "nbformat_minor": 2
}
